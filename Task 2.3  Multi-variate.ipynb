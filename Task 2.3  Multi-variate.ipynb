{
 "cells": [
  {
   "cell_type": "markdown",
   "id": "ac2d191f-9189-4fba-86d2-ad887dc06fe0",
   "metadata": {},
   "source": [
    "# 2.3  Multi-variate - Yazan Alatoom (ME 592)"
   ]
  },
  {
   "cell_type": "code",
   "execution_count": 2,
   "id": "4b9720bb-591b-41d4-a520-878ae35dab89",
   "metadata": {},
   "outputs": [],
   "source": [
    "import pandas as pd\n",
    "from scipy.stats import kurtosis, skew"
   ]
  },
  {
   "cell_type": "code",
   "execution_count": 4,
   "id": "6ac602dc-be7f-4039-b247-7fa0c600757f",
   "metadata": {},
   "outputs": [
    {
     "name": "stdout",
     "output_type": "stream",
     "text": [
      "                                            Mean      Variance       Median  \\\n",
      "Frequency                            2886.380572  9.938717e+06  1600.000000   \n",
      "Angle_of_attack                         6.782302  3.502424e+01     5.400000   \n",
      "Chord_length                            0.136548  8.749868e-03     0.101600   \n",
      "Free_stream_velocity                   50.860745  2.425116e+02    39.600000   \n",
      "Suction_side_displacement_thickness     0.011140  1.729287e-04     0.004957   \n",
      "Scaled_sound_pressure_level           124.835943  4.759146e+01   125.721000   \n",
      "\n",
      "                                     Kurtosis  Skewness         Range  \n",
      "Frequency                            5.685722  2.134951  19800.000000  \n",
      "Angle_of_attack                     -0.415568  0.688476     22.200000  \n",
      "Chord_length                        -1.038504  0.457001      0.279400  \n",
      "Free_stream_velocity                -1.562743  0.235617     39.600000  \n",
      "Suction_side_displacement_thickness  2.207539  1.700465      0.058011  \n",
      "Scaled_sound_pressure_level         -0.317132 -0.418534     37.607000  \n"
     ]
    }
   ],
   "source": [
    "# Load the data into a DataFrame\n",
    "df = pd.read_table('data/Airfoil Self-Noise/airfoil_self_noise.dat', delim_whitespace=True, header=None,\n",
    "                   names=['Frequency', 'Angle_of_attack', 'Chord_length', 'Free_stream_velocity',\n",
    "                          'Suction_side_displacement_thickness', 'Scaled_sound_pressure_level'])\n",
    "\n",
    "# Compute descriptive statistics\n",
    "statistics = {\n",
    "    'Mean': df.mean(),\n",
    "    'Variance': df.var(),\n",
    "    'Median': df.median(),\n",
    "    'Kurtosis': kurtosis(df),\n",
    "    'Skewness': skew(df),\n",
    "    'Range': df.max() - df.min()\n",
    "}\n",
    "\n",
    "# Display the computed statistics\n",
    "statistics_df = pd.DataFrame(statistics)\n",
    "print(statistics_df)"
   ]
  },
  {
   "cell_type": "code",
   "execution_count": null,
   "id": "0c720576-d766-4bf2-8610-7bb3e3311313",
   "metadata": {},
   "outputs": [],
   "source": []
  }
 ],
 "metadata": {
  "kernelspec": {
   "display_name": "Python 3 (ipykernel)",
   "language": "python",
   "name": "python3"
  },
  "language_info": {
   "codemirror_mode": {
    "name": "ipython",
    "version": 3
   },
   "file_extension": ".py",
   "mimetype": "text/x-python",
   "name": "python",
   "nbconvert_exporter": "python",
   "pygments_lexer": "ipython3",
   "version": "3.9.7"
  }
 },
 "nbformat": 4,
 "nbformat_minor": 5
}
